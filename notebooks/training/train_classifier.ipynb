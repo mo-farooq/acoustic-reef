{
  "cells": [
    {
      "cell_type": "markdown",
      "metadata": {},
      "source": [
        "# Train Reef Health Classifier\n",
        "\n",
        "This notebook demonstrates how to train the multi-output classifier for reef health and anthrophony detection using SurfPerch embeddings.\n",
        "\n",
        "## Overview\n",
        "- Load SurfPerch embeddings\n",
        "- Train multi-output classifier (health + anthrophony)\n",
        "- Evaluate model performance\n",
        "- Save trained model\n"
      ]
    }
  ],
  "metadata": {
    "language_info": {
      "name": "python"
    }
  },
  "nbformat": 4,
  "nbformat_minor": 2
}
