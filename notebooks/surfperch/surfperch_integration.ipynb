{
  "cells": [
    {
      "cell_type": "markdown",
      "metadata": {},
      "source": [
        "# SurfPerch Integration for Acoustic Reef\n",
        "\n",
        "This notebook demonstrates how to integrate Google SurfPerch model for generating audio embeddings in the Acoustic Reef project.\n",
        "\n",
        "## Overview\n",
        "- Load and use Google SurfPerch model from Kaggle\n",
        "- Generate embeddings from reef audio recordings\n",
        "- Prepare data for downstream classification tasks\n"
      ]
    },
    {
      "cell_type": "code",
      "execution_count": null,
      "metadata": {},
      "outputs": [],
      "source": [
        "# End-to-end: Load embeddings/dataset, align, load RF model, predict\n",
        "from src.models.reef_classifier import (\n",
        "    load_embeddings_from_csv,\n",
        "    load_master_dataset,\n",
        "    align_embeddings_and_labels,\n",
        "    load_trained_rf_model,\n",
        "    predict_with_model,\n",
        ")\n",
        "from src.utils import config\n",
        "import numpy as np\n",
        "import pandas as pd\n",
        "\n",
        "# Load data\n",
        "X_emb, emb_df = load_embeddings_from_csv()\n",
        "dataset_df = load_master_dataset()\n",
        "\n",
        "# Align by key if available (tries 'clip_id' by default)\n",
        "X, y, merged = align_embeddings_and_labels(emb_df, dataset_df)\n",
        "print(f\"Embeddings: {X_emb.shape} | Aligned features: {X.shape} | Labels shape: {getattr(y, 'shape', None)}\")\n",
        "\n",
        "# Load trained RandomForest model and run predictions\n",
        "rf_model = load_trained_rf_model()\n",
        "preds, probs = predict_with_model(rf_model, X)\n",
        "\n",
        "# Preview results\n",
        "results_df = merged.copy()\n",
        "results_df[\"prediction\"] = preds\n",
        "if isinstance(probs, list):\n",
        "    # If model returns list of proba arrays (multi-output), keep as-is\n",
        "    results_df[\"proba\"] = [p for p in zip(*probs)]\n",
        "elif probs is not None:\n",
        "    # Single output classifier: store max prob and full vector\n",
        "    max_prob = probs.max(axis=1) if hasattr(probs, \"max\") else None\n",
        "    results_df[\"prob_max\"] = max_prob\n",
        "\n",
        "results_df.head(10)\n"
      ]
    }
  ],
  "metadata": {
    "language_info": {
      "name": "python"
    }
  },
  "nbformat": 4,
  "nbformat_minor": 2
}
