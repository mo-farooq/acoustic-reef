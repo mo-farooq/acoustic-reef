{
  "cells": [
    {
      "cell_type": "markdown",
      "metadata": {},
      "source": [
        "# SurfPerch Integration for Acoustic Reef\n",
        "\n",
        "This notebook demonstrates how to integrate Google SurfPerch model for generating audio embeddings in the Acoustic Reef project.\n",
        "\n",
        "## Overview\n",
        "- Load and use Google SurfPerch model from Kaggle\n",
        "- Generate embeddings from reef audio recordings\n",
        "- Prepare data for downstream classification tasks\n"
      ]
    }
  ],
  "metadata": {
    "language_info": {
      "name": "python"
    }
  },
  "nbformat": 4,
  "nbformat_minor": 2
}
